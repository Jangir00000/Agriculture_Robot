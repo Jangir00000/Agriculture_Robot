{
 "cells": [
  {
   "cell_type": "markdown",
   "metadata": {
    "colab_type": "text",
    "id": "3DR-eO17geWu"
   },
   "source": [
    "# Convolutional Neural Network"
   ]
  },
  {
   "cell_type": "markdown",
   "metadata": {
    "colab_type": "text",
    "id": "EMefrVPCg-60"
   },
   "source": [
    "### Importing the libraries"
   ]
  },
  {
   "cell_type": "code",
   "execution_count": 1,
   "metadata": {
    "colab": {},
    "colab_type": "code",
    "id": "sCV30xyVhFbE"
   },
   "outputs": [],
   "source": [
    "import tensorflow as tf\n",
    "from keras.preprocessing.image import ImageDataGenerator"
   ]
  },
  {
   "cell_type": "code",
   "execution_count": 2,
   "metadata": {
    "colab": {},
    "colab_type": "code",
    "id": "FIleuCAjoFD8"
   },
   "outputs": [
    {
     "data": {
      "text/plain": [
       "'2.8.0'"
      ]
     },
     "execution_count": 2,
     "metadata": {},
     "output_type": "execute_result"
    }
   ],
   "source": [
    "tf.__version__"
   ]
  },
  {
   "cell_type": "code",
   "execution_count": null,
   "metadata": {},
   "outputs": [],
   "source": []
  },
  {
   "cell_type": "markdown",
   "metadata": {
    "colab_type": "text",
    "id": "af8O4l90gk7B"
   },
   "source": [
    "## Part 2 - Building the CNN"
   ]
  },
  {
   "cell_type": "markdown",
   "metadata": {
    "colab_type": "text",
    "id": "ces1gXY2lmoX"
   },
   "source": [
    "### Initialising the CNN"
   ]
  },
  {
   "cell_type": "code",
   "execution_count": 5,
   "metadata": {
    "colab": {},
    "colab_type": "code",
    "id": "SAUt4UMPlhLS"
   },
   "outputs": [],
   "source": [
    "cnn = tf.keras.models.Sequential()"
   ]
  },
  {
   "cell_type": "markdown",
   "metadata": {
    "colab_type": "text",
    "id": "u5YJj_XMl5LF"
   },
   "source": [
    "### Step 1 - Convolution"
   ]
  },
  {
   "cell_type": "code",
   "execution_count": 6,
   "metadata": {
    "colab": {},
    "colab_type": "code",
    "id": "XPzPrMckl-hV"
   },
   "outputs": [],
   "source": [
    "cnn.add(tf.keras.layers.Conv2D(filters=32, kernel_size=3, activation='relu', input_shape=[64, 64, 3]))"
   ]
  },
  {
   "cell_type": "markdown",
   "metadata": {
    "colab_type": "text",
    "id": "tf87FpvxmNOJ"
   },
   "source": [
    "### Step 2 - Pooling"
   ]
  },
  {
   "cell_type": "code",
   "execution_count": 7,
   "metadata": {
    "colab": {},
    "colab_type": "code",
    "id": "ncpqPl69mOac"
   },
   "outputs": [],
   "source": [
    "cnn.add(tf.keras.layers.MaxPool2D(pool_size=2, strides=2))"
   ]
  },
  {
   "cell_type": "markdown",
   "metadata": {
    "colab_type": "text",
    "id": "xaTOgD8rm4mU"
   },
   "source": [
    "### Adding a second convolutional layer"
   ]
  },
  {
   "cell_type": "code",
   "execution_count": 8,
   "metadata": {
    "colab": {},
    "colab_type": "code",
    "id": "i_-FZjn_m8gk"
   },
   "outputs": [],
   "source": [
    "cnn.add(tf.keras.layers.Conv2D(filters=32, kernel_size=3, activation='relu'))\n",
    "cnn.add(tf.keras.layers.MaxPool2D(pool_size=2, strides=2))"
   ]
  },
  {
   "cell_type": "markdown",
   "metadata": {
    "colab_type": "text",
    "id": "tmiEuvTunKfk"
   },
   "source": [
    "### Step 3 - Flattening"
   ]
  },
  {
   "cell_type": "code",
   "execution_count": 9,
   "metadata": {
    "colab": {},
    "colab_type": "code",
    "id": "6AZeOGCvnNZn"
   },
   "outputs": [],
   "source": [
    "cnn.add(tf.keras.layers.Flatten())"
   ]
  },
  {
   "cell_type": "markdown",
   "metadata": {
    "colab_type": "text",
    "id": "dAoSECOm203v"
   },
   "source": [
    "### Step 4 - Full Connection"
   ]
  },
  {
   "cell_type": "code",
   "execution_count": 10,
   "metadata": {
    "colab": {},
    "colab_type": "code",
    "id": "8GtmUlLd26Nq"
   },
   "outputs": [],
   "source": [
    "cnn.add(tf.keras.layers.Dense(units=128, activation='relu'))"
   ]
  },
  {
   "cell_type": "markdown",
   "metadata": {
    "colab_type": "text",
    "id": "yTldFvbX28Na"
   },
   "source": [
    "### Step 5 - Output Layer"
   ]
  },
  {
   "cell_type": "code",
   "execution_count": 11,
   "metadata": {
    "colab": {},
    "colab_type": "code",
    "id": "1p_Zj1Mc3Ko_"
   },
   "outputs": [],
   "source": [
    "cnn.add(tf.keras.layers.Dense(units=1, activation='sigmoid'))"
   ]
  },
  {
   "cell_type": "markdown",
   "metadata": {
    "colab_type": "text",
    "id": "D6XkI90snSDl"
   },
   "source": [
    "## Part 3 - Training the CNN"
   ]
  },
  {
   "cell_type": "markdown",
   "metadata": {
    "colab_type": "text",
    "id": "vfrFQACEnc6i"
   },
   "source": [
    "### Compiling the CNN"
   ]
  },
  {
   "cell_type": "code",
   "execution_count": 12,
   "metadata": {
    "colab": {},
    "colab_type": "code",
    "id": "NALksrNQpUlJ"
   },
   "outputs": [],
   "source": [
    "cnn.compile(optimizer = 'adam', loss = 'binary_crossentropy', metrics = ['accuracy'])"
   ]
  },
  {
   "cell_type": "markdown",
   "metadata": {
    "colab_type": "text",
    "id": "ehS-v3MIpX2h"
   },
   "source": [
    "### Training the CNN on the Training set and evaluating it on the Test set"
   ]
  },
  {
   "cell_type": "code",
   "execution_count": 13,
   "metadata": {
    "colab": {},
    "colab_type": "code",
    "id": "XUj1W4PJptta",
    "scrolled": true
   },
   "outputs": [
    {
     "name": "stdout",
     "output_type": "stream",
     "text": [
      "Epoch 1/25\n",
      "249/249 [==============================] - 56s 223ms/step - loss: 0.6809 - accuracy: 0.5594 - val_loss: 0.6227 - val_accuracy: 0.6610\n",
      "Epoch 2/25\n",
      "249/249 [==============================] - 45s 182ms/step - loss: 0.6115 - accuracy: 0.6631 - val_loss: 0.6152 - val_accuracy: 0.6650\n",
      "Epoch 3/25\n",
      "249/249 [==============================] - 46s 184ms/step - loss: 0.5822 - accuracy: 0.6912 - val_loss: 0.5532 - val_accuracy: 0.7200\n",
      "Epoch 4/25\n",
      "249/249 [==============================] - 45s 181ms/step - loss: 0.5480 - accuracy: 0.7266 - val_loss: 0.5269 - val_accuracy: 0.7465\n",
      "Epoch 5/25\n",
      "249/249 [==============================] - 45s 181ms/step - loss: 0.5204 - accuracy: 0.7360 - val_loss: 0.5128 - val_accuracy: 0.7605\n",
      "Epoch 6/25\n",
      "249/249 [==============================] - 46s 186ms/step - loss: 0.4918 - accuracy: 0.7653 - val_loss: 0.4843 - val_accuracy: 0.7700\n",
      "Epoch 7/25\n",
      "249/249 [==============================] - 44s 176ms/step - loss: 0.4731 - accuracy: 0.7753 - val_loss: 0.4887 - val_accuracy: 0.7720\n",
      "Epoch 8/25\n",
      "249/249 [==============================] - 51s 204ms/step - loss: 0.4622 - accuracy: 0.7813 - val_loss: 0.4643 - val_accuracy: 0.7805\n",
      "Epoch 9/25\n",
      "249/249 [==============================] - 49s 195ms/step - loss: 0.4514 - accuracy: 0.7863 - val_loss: 0.5001 - val_accuracy: 0.7495\n",
      "Epoch 10/25\n",
      "249/249 [==============================] - 40s 161ms/step - loss: 0.4374 - accuracy: 0.7917 - val_loss: 0.4763 - val_accuracy: 0.7805\n",
      "Epoch 11/25\n",
      "249/249 [==============================] - 37s 149ms/step - loss: 0.4250 - accuracy: 0.8052 - val_loss: 0.4666 - val_accuracy: 0.7855\n",
      "Epoch 12/25\n",
      "249/249 [==============================] - 37s 148ms/step - loss: 0.4146 - accuracy: 0.8099 - val_loss: 0.4461 - val_accuracy: 0.7980\n",
      "Epoch 13/25\n",
      "249/249 [==============================] - 37s 149ms/step - loss: 0.4089 - accuracy: 0.8076 - val_loss: 0.4457 - val_accuracy: 0.7930\n",
      "Epoch 14/25\n",
      "249/249 [==============================] - 37s 149ms/step - loss: 0.3920 - accuracy: 0.8166 - val_loss: 0.4550 - val_accuracy: 0.7965\n",
      "Epoch 15/25\n",
      "249/249 [==============================] - 37s 150ms/step - loss: 0.3828 - accuracy: 0.8254 - val_loss: 0.4533 - val_accuracy: 0.7975\n",
      "Epoch 16/25\n",
      "249/249 [==============================] - 37s 150ms/step - loss: 0.3794 - accuracy: 0.8281 - val_loss: 0.4511 - val_accuracy: 0.8005\n",
      "Epoch 17/25\n",
      "249/249 [==============================] - 37s 150ms/step - loss: 0.3629 - accuracy: 0.8361 - val_loss: 0.4723 - val_accuracy: 0.7965\n",
      "Epoch 18/25\n",
      "249/249 [==============================] - 38s 151ms/step - loss: 0.3594 - accuracy: 0.8397 - val_loss: 0.4980 - val_accuracy: 0.7900\n",
      "Epoch 19/25\n",
      "249/249 [==============================] - 38s 153ms/step - loss: 0.3522 - accuracy: 0.8448 - val_loss: 0.4497 - val_accuracy: 0.8070\n",
      "Epoch 20/25\n",
      "249/249 [==============================] - 38s 153ms/step - loss: 0.3426 - accuracy: 0.8520 - val_loss: 0.4569 - val_accuracy: 0.8030\n",
      "Epoch 21/25\n",
      "249/249 [==============================] - 38s 151ms/step - loss: 0.3353 - accuracy: 0.8524 - val_loss: 0.4874 - val_accuracy: 0.7985\n",
      "Epoch 22/25\n",
      "249/249 [==============================] - 43s 174ms/step - loss: 0.3293 - accuracy: 0.8511 - val_loss: 0.4638 - val_accuracy: 0.8030\n",
      "Epoch 23/25\n",
      "249/249 [==============================] - 47s 190ms/step - loss: 0.3238 - accuracy: 0.8576 - val_loss: 0.4753 - val_accuracy: 0.7990\n",
      "Epoch 24/25\n",
      "249/249 [==============================] - 49s 197ms/step - loss: 0.3153 - accuracy: 0.8634 - val_loss: 0.4662 - val_accuracy: 0.8055\n",
      "Epoch 25/25\n",
      "249/249 [==============================] - 46s 184ms/step - loss: 0.2994 - accuracy: 0.8664 - val_loss: 0.4648 - val_accuracy: 0.8085\n"
     ]
    },
    {
     "data": {
      "text/plain": [
       "<keras.callbacks.History at 0x2d8d3bf8760>"
      ]
     },
     "execution_count": 13,
     "metadata": {},
     "output_type": "execute_result"
    }
   ],
   "source": [
    "cnn.fit(x = training_set, validation_data = test_set, epochs = 25)"
   ]
  },
  {
   "cell_type": "markdown",
   "metadata": {
    "colab_type": "text",
    "id": "U3PZasO0006Z"
   },
   "source": [
    "## Part 4 - Making a single prediction"
   ]
  },
  {
   "cell_type": "code",
   "execution_count": 14,
   "metadata": {
    "colab": {},
    "colab_type": "code",
    "id": "gsSiWEJY1BPB"
   },
   "outputs": [],
   "source": [
    "import numpy as np\n",
    "from keras.preprocessing import image\n",
    "test_image = image.load_img('dataset/single_prediction/cat_or_dog_2.jpg', target_size = (64, 64))\n",
    "test_image = image.img_to_array(test_image)\n",
    "test_image = np.expand_dims(test_image, axis = 0)\n",
    "result = cnn.predict(test_image)\n",
    "training_set.class_indices\n",
    "if result[0][0] == 1:\n",
    "  prediction = 'dog'\n",
    "else:\n",
    "  prediction = 'cat'"
   ]
  },
  {
   "cell_type": "code",
   "execution_count": 15,
   "metadata": {
    "colab": {},
    "colab_type": "code",
    "id": "ED9KB3I54c1i"
   },
   "outputs": [
    {
     "name": "stdout",
     "output_type": "stream",
     "text": [
      "cat\n"
     ]
    }
   ],
   "source": [
    "print(prediction)"
   ]
  },
  {
   "cell_type": "code",
   "execution_count": null,
   "metadata": {},
   "outputs": [],
   "source": []
  },
  {
   "cell_type": "code",
   "execution_count": null,
   "metadata": {},
   "outputs": [],
   "source": []
  }
 ],
 "metadata": {
  "colab": {
   "collapsed_sections": [],
   "name": "convolutional_neural_network.ipynb",
   "provenance": [],
   "toc_visible": true
  },
  "kernelspec": {
   "display_name": "Python 3 (ipykernel)",
   "language": "python",
   "name": "python3"
  },
  "language_info": {
   "codemirror_mode": {
    "name": "ipython",
    "version": 3
   },
   "file_extension": ".py",
   "mimetype": "text/x-python",
   "name": "python",
   "nbconvert_exporter": "python",
   "pygments_lexer": "ipython3",
   "version": "3.10.12"
  }
 },
 "nbformat": 4,
 "nbformat_minor": 1
}
