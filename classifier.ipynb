{
 "cells": [
  {
   "cell_type": "code",
   "execution_count": null,
   "metadata": {},
   "outputs": [],
   "source": [
    "import os\n",
    "import shutil\n",
    "from tqdm import tqdm"
   ]
  },
  {
   "cell_type": "code",
   "execution_count": null,
   "metadata": {},
   "outputs": [],
   "source": [
    "# Define the paths to the input, red tomatoes, and output folders\n",
    "input_folder = \"Ripeness Detection Dataset/3_compiled_images/Final\"  # Replace with the path to the first folder\n",
    "red_tomatoes_folder = \"Ripeness Detection Dataset/4_ripe_&_unripe/Ripe\"  # Replace with the path to the second folder\n",
    "output_folder = \"https://drive.google.com/drive/folders/1MVev5kD6fQ5E3JZvstHzBRkJwj6Qrg2z?usp=sharing\"  # Replace with the desired output folder path"
   ]
  },
  {
   "cell_type": "code",
   "execution_count": null,
   "metadata": {},
   "outputs": [],
   "source": [
    "def copy_non_red_tomatoes(input_folder, red_tomatoes_folder, output_folder):\n",
    "    # Create the output folder if it doesn't exist\n",
    "    if not os.path.exists(output_folder):\n",
    "        os.makedirs(output_folder)\n",
    "\n",
    "    # Get a list of all images in the first folder\n",
    "    all_images = os.listdir(input_folder)\n",
    "\n",
    "    # Get a list of all images in the second folder\n",
    "    red_tomato_images = os.listdir(red_tomatoes_folder)\n",
    "\n",
    "    # Convert the list of red tomato images to a set for faster lookup\n",
    "    red_tomato_set = set(red_tomato_images)\n",
    "\n",
    "    # Initialize a progress bar\n",
    "    progress = tqdm(total=len(all_images), desc=\"Copying\")\n",
    "\n",
    "    # Copy non-red tomato images to the output folder\n",
    "    for image in all_images:\n",
    "        if image not in red_tomato_set:\n",
    "            source_path = os.path.join(input_folder, image)\n",
    "            dest_path = os.path.join(output_folder, image)\n",
    "            shutil.copy2(source_path, dest_path)\n",
    "        progress.update(1)  # Update the progress bar\n",
    "\n",
    "    progress.close()  # Close the progress bar"
   ]
  },
  {
   "cell_type": "code",
   "execution_count": null,
   "metadata": {},
   "outputs": [],
   "source": [
    "if __name__ == \"__main__\":\n",
    "    copy_non_red_tomatoes(input_folder, red_tomatoes_folder, output_folder)"
   ]
  }
 ],
 "metadata": {
  "language_info": {
   "name": "python"
  }
 },
 "nbformat": 4,
 "nbformat_minor": 2
}
